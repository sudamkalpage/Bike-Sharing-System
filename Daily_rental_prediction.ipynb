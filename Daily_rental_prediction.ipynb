{
 "cells": [
  {
   "cell_type": "code",
   "execution_count": 1,
   "metadata": {
    "_cell_guid": "b1076dfc-b9ad-4769-8c92-a6c4dae69d19",
    "_uuid": "8f2839f25d086af736a60e9eeb907d3b93b6e0e5",
    "execution": {
     "iopub.execute_input": "2021-10-16T16:30:41.996738Z",
     "iopub.status.busy": "2021-10-16T16:30:41.996082Z",
     "iopub.status.idle": "2021-10-16T16:30:42.022371Z",
     "shell.execute_reply": "2021-10-16T16:30:42.020920Z",
     "shell.execute_reply.started": "2021-10-16T16:30:41.996633Z"
    }
   },
   "outputs": [],
   "source": [
    "# E/16/078  |   E/16/168  |  E/16/275\n",
    "import numpy as np # linear algebra\n",
    "import pandas as pd # data processing, CSV file I/O (e.g. pd.read_csv)\n",
    "import os\n",
    "for dirname, _, filenames in os.walk('/kaggle/input'):\n",
    "    for filename in filenames:\n",
    "        print(os.path.join(dirname, filename))\n",
    "\n",
    "# You can write up to 20GB to the current directory (/kaggle/working/) that gets preserved as output when you create a version using \"Save & Run All\" \n",
    "# You can also write temporary files to /kaggle/temp/, but they won't be saved outside of the current session"
   ]
  },
  {
   "cell_type": "markdown",
   "metadata": {},
   "source": [
    "# Import Data"
   ]
  },
  {
   "cell_type": "code",
   "execution_count": 2,
   "metadata": {
    "execution": {
     "iopub.execute_input": "2021-10-16T16:30:42.024497Z",
     "iopub.status.busy": "2021-10-16T16:30:42.024087Z",
     "iopub.status.idle": "2021-10-16T16:30:42.180331Z",
     "shell.execute_reply": "2021-10-16T16:30:42.179219Z",
     "shell.execute_reply.started": "2021-10-16T16:30:42.024457Z"
    }
   },
   "outputs": [],
   "source": [
    "# load the training dataset\n",
    "df = pd.read_csv('/kaggle/input/co544-bike-sharing-project/day.csv')\n",
    "df.shape"
   ]
  },
  {
   "cell_type": "code",
   "execution_count": 3,
   "metadata": {
    "execution": {
     "iopub.execute_input": "2021-10-16T16:30:42.182758Z",
     "iopub.status.busy": "2021-10-16T16:30:42.182422Z",
     "iopub.status.idle": "2021-10-16T16:30:42.218762Z",
     "shell.execute_reply": "2021-10-16T16:30:42.217655Z",
     "shell.execute_reply.started": "2021-10-16T16:30:42.182723Z"
    }
   },
   "outputs": [],
   "source": [
    "df.head()"
   ]
  },
  {
   "cell_type": "markdown",
   "metadata": {},
   "source": [
    "# Data Wrangling"
   ]
  },
  {
   "cell_type": "code",
   "execution_count": 4,
   "metadata": {
    "execution": {
     "iopub.execute_input": "2021-10-16T16:30:42.220977Z",
     "iopub.status.busy": "2021-10-16T16:30:42.220638Z",
     "iopub.status.idle": "2021-10-16T16:30:42.231583Z",
     "shell.execute_reply": "2021-10-16T16:30:42.230412Z",
     "shell.execute_reply.started": "2021-10-16T16:30:42.220941Z"
    }
   },
   "outputs": [],
   "source": [
    "df.isnull().sum()"
   ]
  },
  {
   "cell_type": "code",
   "execution_count": 5,
   "metadata": {
    "execution": {
     "iopub.execute_input": "2021-10-16T16:30:42.233727Z",
     "iopub.status.busy": "2021-10-16T16:30:42.233228Z",
     "iopub.status.idle": "2021-10-16T16:30:42.248470Z",
     "shell.execute_reply": "2021-10-16T16:30:42.247295Z",
     "shell.execute_reply.started": "2021-10-16T16:30:42.233685Z"
    }
   },
   "outputs": [],
   "source": [
    "df.dtypes"
   ]
  },
  {
   "cell_type": "markdown",
   "metadata": {},
   "source": [
    "Replace **dteday** column using from the existing **dteday** column date value."
   ]
  },
  {
   "cell_type": "code",
   "execution_count": 6,
   "metadata": {
    "execution": {
     "iopub.execute_input": "2021-10-16T16:30:42.250325Z",
     "iopub.status.busy": "2021-10-16T16:30:42.249957Z",
     "iopub.status.idle": "2021-10-16T16:30:42.279101Z",
     "shell.execute_reply": "2021-10-16T16:30:42.277873Z",
     "shell.execute_reply.started": "2021-10-16T16:30:42.250278Z"
    }
   },
   "outputs": [],
   "source": [
    "# Replace dteday column using from the existing dteday column date value.\n",
    "df['dteday'] = pd.DatetimeIndex(df['dteday']).day\n",
    "df.head()\n"
   ]
  },
  {
   "cell_type": "markdown",
   "metadata": {},
   "source": [
    "# Statistical Analysis"
   ]
  },
  {
   "cell_type": "markdown",
   "metadata": {},
   "source": [
    "Analysis of the data by examining descriptive statistics for the numeric features and the **cnt** label column."
   ]
  },
  {
   "cell_type": "code",
   "execution_count": 7,
   "metadata": {
    "execution": {
     "iopub.execute_input": "2021-10-16T16:30:42.281704Z",
     "iopub.status.busy": "2021-10-16T16:30:42.281134Z",
     "iopub.status.idle": "2021-10-16T16:30:42.327867Z",
     "shell.execute_reply": "2021-10-16T16:30:42.326905Z",
     "shell.execute_reply.started": "2021-10-16T16:30:42.281576Z"
    }
   },
   "outputs": [],
   "source": [
    "numeric_features = ['temp', 'atemp', 'hum', 'windspeed','casual','registered']\n",
    "df[numeric_features + ['cnt']].describe()"
   ]
  },
  {
   "cell_type": "markdown",
   "metadata": {},
   "source": [
    "# Data PreProcessing"
   ]
  },
  {
   "cell_type": "code",
   "execution_count": 8,
   "metadata": {
    "execution": {
     "iopub.execute_input": "2021-10-16T16:30:42.330778Z",
     "iopub.status.busy": "2021-10-16T16:30:42.330285Z",
     "iopub.status.idle": "2021-10-16T16:30:43.268677Z",
     "shell.execute_reply": "2021-10-16T16:30:43.267604Z",
     "shell.execute_reply.started": "2021-10-16T16:30:42.330721Z"
    }
   },
   "outputs": [],
   "source": [
    "from sklearn import preprocessing\n",
    "\n",
    "norm_data = preprocessing.normalize([df['registered']])\n",
    "df['registered']=norm_data[0]\n",
    "norm_data = preprocessing.normalize([df['casual']])\n",
    "df['casual']=norm_data[0]"
   ]
  },
  {
   "cell_type": "code",
   "execution_count": 9,
   "metadata": {
    "execution": {
     "iopub.execute_input": "2021-10-16T16:30:43.270973Z",
     "iopub.status.busy": "2021-10-16T16:30:43.270473Z",
     "iopub.status.idle": "2021-10-16T16:30:43.311596Z",
     "shell.execute_reply": "2021-10-16T16:30:43.310631Z",
     "shell.execute_reply.started": "2021-10-16T16:30:43.270925Z"
    }
   },
   "outputs": [],
   "source": [
    "df[numeric_features + ['cnt']].describe()"
   ]
  },
  {
   "cell_type": "markdown",
   "metadata": {},
   "source": [
    "# Data Visualization"
   ]
  },
  {
   "cell_type": "markdown",
   "metadata": {},
   "source": [
    "## Distribution of label : bike rentals count"
   ]
  },
  {
   "cell_type": "code",
   "execution_count": 10,
   "metadata": {
    "execution": {
     "iopub.execute_input": "2021-10-16T16:30:43.313847Z",
     "iopub.status.busy": "2021-10-16T16:30:43.313159Z",
     "iopub.status.idle": "2021-10-16T16:30:43.959808Z",
     "shell.execute_reply": "2021-10-16T16:30:43.958782Z",
     "shell.execute_reply.started": "2021-10-16T16:30:43.313793Z"
    }
   },
   "outputs": [],
   "source": [
    "import matplotlib.pyplot as plt\n",
    "\n",
    "# This ensures plots are displayed inline in the Jupyter notebook\n",
    "%matplotlib inline\n",
    "\n",
    "# Get the label column\n",
    "label = df['cnt']\n",
    "\n",
    "\n",
    "# Create a figure for 2 subplots (2 rows, 1 column)\n",
    "fig, ax = plt.subplots(2, 1, figsize = (9,12))\n",
    "\n",
    "# Plot the histogram   \n",
    "ax[0].hist(label, bins=100)\n",
    "ax[0].set_ylabel('Frequency')\n",
    "\n",
    "# Add lines for the mean, median, and mode\n",
    "ax[0].axvline(label.mean(), color='magenta', linestyle='dashed', linewidth=2)\n",
    "ax[0].axvline(label.median(), color='cyan', linestyle='dashed', linewidth=2)\n",
    "\n",
    "# Plot the boxplot   \n",
    "ax[1].boxplot(label, vert=False)\n",
    "ax[1].set_xlabel('Rentals')\n",
    "\n",
    "# Add a title to the Figure\n",
    "fig.suptitle('Rental Distribution')\n",
    "\n",
    "# Show the figure\n",
    "fig.show()\n"
   ]
  },
  {
   "cell_type": "markdown",
   "metadata": {},
   "source": [
    "## Visualization of numeric features --> histogram"
   ]
  },
  {
   "cell_type": "code",
   "execution_count": 11,
   "metadata": {
    "execution": {
     "iopub.execute_input": "2021-10-16T16:30:43.962027Z",
     "iopub.status.busy": "2021-10-16T16:30:43.961330Z",
     "iopub.status.idle": "2021-10-16T16:30:46.637069Z",
     "shell.execute_reply": "2021-10-16T16:30:46.635800Z",
     "shell.execute_reply.started": "2021-10-16T16:30:43.961970Z"
    }
   },
   "outputs": [],
   "source": [
    "# Plot a histogram for each numeric feature\n",
    "for col in numeric_features:\n",
    "    fig = plt.figure(figsize=(9, 6))\n",
    "    ax = fig.gca()\n",
    "    feature = df[col]\n",
    "    feature.hist(bins=100, ax = ax)\n",
    "    ax.axvline(feature.mean(), color='magenta', linestyle='dashed', linewidth=2)\n",
    "    ax.axvline(feature.median(), color='cyan', linestyle='dashed', linewidth=2)\n",
    "    ax.set_title(col)\n",
    "plt.show()"
   ]
  },
  {
   "cell_type": "markdown",
   "metadata": {},
   "source": [
    "## Scatter Matrix"
   ]
  },
  {
   "cell_type": "code",
   "execution_count": 12,
   "metadata": {
    "execution": {
     "iopub.execute_input": "2021-10-16T16:30:46.640881Z",
     "iopub.status.busy": "2021-10-16T16:30:46.640540Z",
     "iopub.status.idle": "2021-10-16T16:30:50.761926Z",
     "shell.execute_reply": "2021-10-16T16:30:50.760386Z",
     "shell.execute_reply.started": "2021-10-16T16:30:46.640846Z"
    }
   },
   "outputs": [],
   "source": [
    "numeric_df=df[['temp', 'atemp', 'hum', 'windspeed','casual','registered','cnt']]\n",
    "pd.plotting.scatter_matrix(numeric_df, figsize=(12,12))"
   ]
  },
  {
   "cell_type": "markdown",
   "metadata": {},
   "source": [
    "\n",
    "## Visualization of categorical features --> bar chart"
   ]
  },
  {
   "cell_type": "code",
   "execution_count": 13,
   "metadata": {
    "execution": {
     "iopub.execute_input": "2021-10-16T16:30:50.764113Z",
     "iopub.status.busy": "2021-10-16T16:30:50.763667Z",
     "iopub.status.idle": "2021-10-16T16:30:52.170766Z",
     "shell.execute_reply": "2021-10-16T16:30:52.169412Z",
     "shell.execute_reply.started": "2021-10-16T16:30:50.764060Z"
    }
   },
   "outputs": [],
   "source": [
    "# plot a bar plot for each categorical feature count\n",
    "categorical_features = ['season','yr','mnth','holiday','weekday','workingday','weathersit', 'dteday']\n",
    "\n",
    "for col in categorical_features:\n",
    "    counts = df[col].value_counts().sort_index()\n",
    "    fig = plt.figure(figsize=(9, 6))\n",
    "    ax = fig.gca()\n",
    "    counts.plot.bar(ax = ax, color='steelblue')\n",
    "    ax.set_title(col + ' counts')\n",
    "    ax.set_xlabel(col) \n",
    "    ax.set_ylabel(\"Frequency\")\n",
    "plt.show()"
   ]
  },
  {
   "cell_type": "markdown",
   "metadata": {},
   "source": [
    "## Visualize relationships between the features and the **cnt** label"
   ]
  },
  {
   "cell_type": "markdown",
   "metadata": {},
   "source": [
    "Scatter plots with **correlation** statistic to show the intersection of each numeric feature and label values."
   ]
  },
  {
   "cell_type": "code",
   "execution_count": 14,
   "metadata": {
    "execution": {
     "iopub.execute_input": "2021-10-16T16:30:52.172889Z",
     "iopub.status.busy": "2021-10-16T16:30:52.172513Z",
     "iopub.status.idle": "2021-10-16T16:30:53.231841Z",
     "shell.execute_reply": "2021-10-16T16:30:53.230692Z",
     "shell.execute_reply.started": "2021-10-16T16:30:52.172852Z"
    }
   },
   "outputs": [],
   "source": [
    "for col in numeric_features:\n",
    "    fig = plt.figure(figsize=(9, 6))\n",
    "    ax = fig.gca()\n",
    "    feature = df[col]\n",
    "    label = df['cnt']\n",
    "    correlation = feature.corr(label)\n",
    "    plt.scatter(x=feature, y=label)\n",
    "    plt.xlabel(col)\n",
    "    plt.ylabel('Bike Rentals')\n",
    "    ax.set_title('rental count vs ' + col + ' correlation: ' + str(correlation))\n",
    "plt.show()"
   ]
  },
  {
   "cell_type": "markdown",
   "metadata": {},
   "source": [
    "- **temp** and **atemp**, shows a diagonal trend showing that higher rental counts tend to coincide with higher temperatures; and a correlation value over 0.5 for both of these features supports this observation.\n",
    "- **hum** and **windspeed** show a slightly negative correlation, indicating that there are fewer rentals on days with high humidity or windspeed."
   ]
  },
  {
   "cell_type": "markdown",
   "metadata": {},
   "source": [
    "## Box plots to compare rental count with categorical features"
   ]
  },
  {
   "cell_type": "code",
   "execution_count": 15,
   "metadata": {
    "execution": {
     "iopub.execute_input": "2021-10-16T16:30:53.233602Z",
     "iopub.status.busy": "2021-10-16T16:30:53.233283Z",
     "iopub.status.idle": "2021-10-16T16:30:55.609546Z",
     "shell.execute_reply": "2021-10-16T16:30:55.608528Z",
     "shell.execute_reply.started": "2021-10-16T16:30:53.233566Z"
    }
   },
   "outputs": [],
   "source": [
    "# plot a boxplot for the label by each categorical feature\n",
    "for col in categorical_features:\n",
    "    fig = plt.figure(figsize=(9, 6))\n",
    "    ax = fig.gca()\n",
    "    df.boxplot(column = 'cnt', by = col, ax = ax)\n",
    "    ax.set_title('Label by ' + col)\n",
    "    ax.set_ylabel(\"Bike Rental Count\")\n",
    "plt.show()"
   ]
  },
  {
   "cell_type": "markdown",
   "metadata": {},
   "source": [
    "## Co-relation co-efficients"
   ]
  },
  {
   "cell_type": "code",
   "execution_count": 16,
   "metadata": {
    "execution": {
     "iopub.execute_input": "2021-10-16T16:30:55.611333Z",
     "iopub.status.busy": "2021-10-16T16:30:55.610890Z",
     "iopub.status.idle": "2021-10-16T16:30:55.622904Z",
     "shell.execute_reply": "2021-10-16T16:30:55.621810Z",
     "shell.execute_reply.started": "2021-10-16T16:30:55.611292Z"
    }
   },
   "outputs": [],
   "source": [
    "df.corr()[\"cnt\"]"
   ]
  },
  {
   "cell_type": "markdown",
   "metadata": {},
   "source": [
    "## Scatter Matrix"
   ]
  },
  {
   "cell_type": "code",
   "execution_count": 17,
   "metadata": {
    "execution": {
     "iopub.execute_input": "2021-10-16T16:30:55.624707Z",
     "iopub.status.busy": "2021-10-16T16:30:55.624374Z",
     "iopub.status.idle": "2021-10-16T16:30:57.399835Z",
     "shell.execute_reply": "2021-10-16T16:30:57.398456Z",
     "shell.execute_reply.started": "2021-10-16T16:30:55.624675Z"
    }
   },
   "outputs": [],
   "source": [
    "import seaborn as sns\n",
    "plt.figure(figsize=(25, 15))\n",
    "plt.rcParams[\"axes.labelsize\"] = 20\n",
    "sns.set(font_scale=1.2)\n",
    "sns.heatmap(df.corr(), annot = True ,linewidths=.1)\n",
    "plt.show()"
   ]
  },
  {
   "cell_type": "markdown",
   "metadata": {},
   "source": [
    "# Split Data"
   ]
  },
  {
   "cell_type": "code",
   "execution_count": 18,
   "metadata": {
    "execution": {
     "iopub.execute_input": "2021-10-16T16:30:57.401843Z",
     "iopub.status.busy": "2021-10-16T16:30:57.401416Z",
     "iopub.status.idle": "2021-10-16T16:30:57.412985Z",
     "shell.execute_reply": "2021-10-16T16:30:57.411859Z",
     "shell.execute_reply.started": "2021-10-16T16:30:57.401801Z"
    }
   },
   "outputs": [],
   "source": [
    "# Separate features and labels [['temp', 'atemp', 'hum', 'windspeed','casual','registered']]  ['season','yr','mnth','holiday','weekday','workingday','weathersit', 'dteday']\n",
    "X, y = df[['season','yr','mnth', 'holiday','weekday','dteday','workingday','weathersit','temp', 'hum', 'windspeed','casual','registered']].values, df['cnt'].values\n",
    "print('Features:',X[:10], '\\nLabels:', y[:10], sep='\\n')"
   ]
  },
  {
   "cell_type": "code",
   "execution_count": 19,
   "metadata": {
    "execution": {
     "iopub.execute_input": "2021-10-16T16:30:57.414811Z",
     "iopub.status.busy": "2021-10-16T16:30:57.414443Z",
     "iopub.status.idle": "2021-10-16T16:30:57.489781Z",
     "shell.execute_reply": "2021-10-16T16:30:57.488612Z",
     "shell.execute_reply.started": "2021-10-16T16:30:57.414779Z"
    }
   },
   "outputs": [],
   "source": [
    "import sklearn\n",
    "from sklearn.model_selection import train_test_split\n",
    "\n",
    "# Split data 70%-30% into training set and test set\n",
    "X_train, X_test, y_train, y_test = train_test_split(X, y, test_size=0.30, random_state=0)\n",
    "\n",
    "print ('Training Set: %d rows\\nTest Set: %d rows' % (X_train.shape[0], X_test.shape[0]))\n",
    "\n",
    "# X_train, X_validation, y_train, y_validation = train_test_split(X_test,y_test,test_size=0.50, random_state = 5)\n",
    "# print ('Training Set: %d rows\\nValidate Set: %d rows' % (X_train.shape[0], X_validation.shape[0]))"
   ]
  },
  {
   "cell_type": "markdown",
   "metadata": {},
   "source": [
    "# Train Regression Model\n",
    "\n",
    "#### Linear algorithm 1 - Linear Regression\n",
    "#### Linear algorithm 2 - Lasso\n",
    "#### Linear algorithms 3 - Ridge\n",
    "#### Tree-based algorithm 1 - Decision Tree regression\n",
    "#### Ensemble algorithm 1 - Random Forest model\n",
    "#### Ensemble algorithm 2 - Gradient Boosting estimator"
   ]
  },
  {
   "cell_type": "code",
   "execution_count": 20,
   "metadata": {
    "execution": {
     "iopub.execute_input": "2021-10-16T16:30:57.491603Z",
     "iopub.status.busy": "2021-10-16T16:30:57.491205Z",
     "iopub.status.idle": "2021-10-16T16:30:59.580461Z",
     "shell.execute_reply": "2021-10-16T16:30:59.579244Z",
     "shell.execute_reply.started": "2021-10-16T16:30:57.491564Z"
    }
   },
   "outputs": [],
   "source": [
    "import numpy as np\n",
    "import matplotlib.pyplot as plt\n",
    "from sklearn.metrics import mean_squared_error, r2_score\n",
    "from sklearn.metrics import explained_variance_score\n",
    "\n",
    "from sklearn.linear_model import LinearRegression\n",
    "from sklearn.linear_model import Lasso\n",
    "from sklearn.linear_model import Ridge\n",
    "from sklearn.tree import DecisionTreeRegressor\n",
    "from sklearn.ensemble import RandomForestRegressor\n",
    "from sklearn.ensemble import GradientBoostingRegressor\n",
    "\n",
    "predictions=[]\n",
    "models=[['LinearRegression',LinearRegression()],\n",
    "        ['Lasso',Lasso()],\n",
    "        ['Ridge',Ridge()],\n",
    "        ['DecisionTreeRegressor',DecisionTreeRegressor()],\n",
    "        ['RandomForestRegressor',RandomForestRegressor()],\n",
    "        ['GradientBoostingRegressor',GradientBoostingRegressor()]]\n",
    "\n",
    "MSE=[]\n",
    "RMSE=[]\n",
    "R2=[]\n",
    "EVS=[]\n",
    "\n",
    "for name,model in models:\n",
    "    model=model\n",
    "    model.fit(X_train,y_train)\n",
    "    predictions=model.predict(X_test)\n",
    "    \n",
    "    %matplotlib inline\n",
    "    plt.scatter(y_test, predictions)\n",
    "    plt.xlabel('Actual Labels')\n",
    "    plt.ylabel('Predicted Labels')\n",
    "    plt.title(str(model))\n",
    "    # overlay the regression line\n",
    "    z = np.polyfit(y_test, predictions, 1)\n",
    "    p = np.poly1d(z)\n",
    "    plt.plot(y_test,p(y_test), color='magenta')\n",
    "    plt.show()\n",
    "\n",
    "    # Errors\n",
    "    mse = mean_squared_error(y_test, predictions)\n",
    "    MSE.append(mse)\n",
    "    RMSE.append(np.sqrt(mse))\n",
    "    R2.append(r2_score(y_test, predictions))\n",
    "    EVS.append(explained_variance_score(y_test, predictions))\n",
    "    "
   ]
  },
  {
   "cell_type": "markdown",
   "metadata": {},
   "source": [
    "### Quantify the residuals by calculating evaluation metrics,\n",
    "* Mean Square Error (MSE)\n",
    "* Root Mean Square Error (RMSE)\n",
    "* Coefficient of Determination (*R-squared* : R<sup>2</sup>)\n",
    "* explained variance score"
   ]
  },
  {
   "cell_type": "code",
   "execution_count": 21,
   "metadata": {
    "execution": {
     "iopub.execute_input": "2021-10-16T16:30:59.582565Z",
     "iopub.status.busy": "2021-10-16T16:30:59.582170Z",
     "iopub.status.idle": "2021-10-16T16:30:59.592817Z",
     "shell.execute_reply": "2021-10-16T16:30:59.591538Z",
     "shell.execute_reply.started": "2021-10-16T16:30:59.582526Z"
    }
   },
   "outputs": [],
   "source": [
    "for i in range(len(MSE)):\n",
    "    print(models[i][1], MSE[i])"
   ]
  },
  {
   "cell_type": "code",
   "execution_count": 22,
   "metadata": {
    "execution": {
     "iopub.execute_input": "2021-10-16T16:30:59.594714Z",
     "iopub.status.busy": "2021-10-16T16:30:59.594379Z",
     "iopub.status.idle": "2021-10-16T16:30:59.609135Z",
     "shell.execute_reply": "2021-10-16T16:30:59.607175Z",
     "shell.execute_reply.started": "2021-10-16T16:30:59.594681Z"
    }
   },
   "outputs": [],
   "source": [
    "for i in range(len(RMSE)):\n",
    "    print(models[i][1], RMSE[i])"
   ]
  },
  {
   "cell_type": "code",
   "execution_count": 23,
   "metadata": {
    "execution": {
     "iopub.execute_input": "2021-10-16T16:30:59.615036Z",
     "iopub.status.busy": "2021-10-16T16:30:59.614630Z",
     "iopub.status.idle": "2021-10-16T16:30:59.625927Z",
     "shell.execute_reply": "2021-10-16T16:30:59.624567Z",
     "shell.execute_reply.started": "2021-10-16T16:30:59.614999Z"
    }
   },
   "outputs": [],
   "source": [
    "for i in range(len(R2)):\n",
    "    print(models[i][1], R2[i])"
   ]
  },
  {
   "cell_type": "code",
   "execution_count": 24,
   "metadata": {
    "execution": {
     "iopub.execute_input": "2021-10-16T16:30:59.629523Z",
     "iopub.status.busy": "2021-10-16T16:30:59.628302Z",
     "iopub.status.idle": "2021-10-16T16:30:59.638990Z",
     "shell.execute_reply": "2021-10-16T16:30:59.638001Z",
     "shell.execute_reply.started": "2021-10-16T16:30:59.629476Z"
    }
   },
   "outputs": [],
   "source": [
    "for i in range(len(EVS)):\n",
    "    print(models[i][1], EVS[i])"
   ]
  },
  {
   "cell_type": "markdown",
   "metadata": {},
   "source": [
    "### Hyperparameter Tuning"
   ]
  },
  {
   "cell_type": "code",
   "execution_count": 25,
   "metadata": {
    "execution": {
     "iopub.execute_input": "2021-10-16T16:30:59.640581Z",
     "iopub.status.busy": "2021-10-16T16:30:59.640227Z",
     "iopub.status.idle": "2021-10-16T16:31:02.657105Z",
     "shell.execute_reply": "2021-10-16T16:31:02.655953Z",
     "shell.execute_reply.started": "2021-10-16T16:30:59.640538Z"
    }
   },
   "outputs": [],
   "source": [
    "from sklearn.model_selection import GridSearchCV\n",
    "from sklearn.metrics import make_scorer, r2_score\n",
    "\n",
    "# Use a Gradient Boosting algorithm\n",
    "alg = GradientBoostingRegressor()\n",
    "\n",
    "# Try these hyperparameter values\n",
    "params = {\n",
    " 'learning_rate': [0.1, 0.5, 1.0],\n",
    " 'n_estimators' : [50, 100, 150]\n",
    " }\n",
    "\n",
    "# Find the best hyperparameter combination to optimize the R2 metric\n",
    "score = make_scorer(r2_score)\n",
    "gridsearch = GridSearchCV(alg, params, scoring=score, cv=3, return_train_score=True)\n",
    "gridsearch.fit(X_train, y_train)\n",
    "print(\"Best parameter combination:\", gridsearch.best_params_, \"\\n\")\n",
    "\n",
    "# Get the best model\n",
    "model=gridsearch.best_estimator_\n",
    "print(model, \"\\n\")\n",
    "\n",
    "# Evaluate the model using the test data\n",
    "predictions = model.predict(X_test)\n",
    "mse = mean_squared_error(y_test, predictions)\n",
    "print(\"MSE:\", mse)\n",
    "rmse = np.sqrt(mse)\n",
    "print(\"RMSE:\", rmse)\n",
    "r2 = r2_score(y_test, predictions)\n",
    "print(\"R2:\", r2)\n",
    "\n",
    "# Plot predicted vs actual\n",
    "plt.scatter(y_test, predictions)\n",
    "plt.xlabel('Actual Labels')\n",
    "plt.ylabel('Predicted Labels')\n",
    "plt.title('Daily Bike Share Predictions')\n",
    "# overlay the regression line\n",
    "z = np.polyfit(y_test, predictions, 1)\n",
    "p = np.poly1d(z)\n",
    "plt.plot(y_test,p(y_test), color='magenta')\n",
    "plt.show()"
   ]
  },
  {
   "cell_type": "markdown",
   "metadata": {},
   "source": [
    "# Data Preprocessing "
   ]
  },
  {
   "cell_type": "code",
   "execution_count": 26,
   "metadata": {
    "execution": {
     "iopub.execute_input": "2021-10-16T16:31:02.660986Z",
     "iopub.status.busy": "2021-10-16T16:31:02.660650Z",
     "iopub.status.idle": "2021-10-16T16:31:05.343815Z",
     "shell.execute_reply": "2021-10-16T16:31:05.342412Z",
     "shell.execute_reply.started": "2021-10-16T16:31:02.660952Z"
    }
   },
   "outputs": [],
   "source": [
    "# Train the model\n",
    "from sklearn.compose import ColumnTransformer\n",
    "from sklearn.pipeline import Pipeline\n",
    "from sklearn.impute import SimpleImputer\n",
    "from sklearn.preprocessing import StandardScaler, OneHotEncoder\n",
    "from sklearn.linear_model import LinearRegression\n",
    "import numpy as np\n",
    "\n",
    "# Define preprocessing for numeric columns (scale them)\n",
    "numeric_features = [8,9,10,11,12]\n",
    "numeric_transformer = Pipeline(steps=[\n",
    "    ('scaler', StandardScaler())])\n",
    "\n",
    "# Define preprocessing for categorical features (encode them)\n",
    "categorical_features = [0,1,2,3,4,5,6,7]\n",
    "categorical_transformer = Pipeline(steps=[\n",
    "    ('onehot', OneHotEncoder(handle_unknown='ignore'))])\n",
    "\n",
    "# Combine preprocessing steps\n",
    "preprocessor = ColumnTransformer(\n",
    "    transformers=[\n",
    "        ('num', numeric_transformer, numeric_features),\n",
    "        ('cat', categorical_transformer, categorical_features)])\n",
    "\n",
    "# Create preprocessing and training pipeline\n",
    "pipeline = Pipeline(steps=[('preprocessor', preprocessor),\n",
    "                           ('regressor', GradientBoostingRegressor())])\n",
    "\n",
    "\n",
    "predictions=[]\n",
    "RMSE=[]\n",
    "R2=[]\n",
    "EVS=[]\n",
    "\n",
    "for name,prediction_model in models:\n",
    "    prediction_model=prediction_model\n",
    "    # Create preprocessing and training pipeline\n",
    "    pipeline = Pipeline(steps=[('preprocessor', preprocessor),\n",
    "                           ('regressor', prediction_model)])\n",
    "    model = pipeline.fit(X_train, (y_train))\n",
    "    \n",
    "    predictions = model.predict(X_test)\n",
    "    mse = mean_squared_error(y_test, predictions)\n",
    "    RMSE.append(np.sqrt(mse))        \n",
    "    R2.append(r2_score(y_test, predictions))\n",
    "    EVS.append(explained_variance_score(y_test, predictions))\n",
    "    \n",
    "    # Plot predicted vs actual\n",
    "    plt.scatter(y_test, predictions)\n",
    "    plt.xlabel('Actual Labels')\n",
    "    plt.ylabel('Predicted Labels')\n",
    "    plt.title(str(prediction_model))\n",
    "    z = np.polyfit(y_test, predictions, 1)\n",
    "    p = np.poly1d(z)\n",
    "    plt.plot(y_test,p(y_test), color='magenta')\n",
    "    plt.show()\n"
   ]
  },
  {
   "cell_type": "markdown",
   "metadata": {},
   "source": [
    "## After Preprocessing : Erros\n"
   ]
  },
  {
   "cell_type": "code",
   "execution_count": 27,
   "metadata": {
    "execution": {
     "iopub.execute_input": "2021-10-16T16:31:05.345730Z",
     "iopub.status.busy": "2021-10-16T16:31:05.345392Z",
     "iopub.status.idle": "2021-10-16T16:31:05.356632Z",
     "shell.execute_reply": "2021-10-16T16:31:05.355358Z",
     "shell.execute_reply.started": "2021-10-16T16:31:05.345695Z"
    }
   },
   "outputs": [],
   "source": [
    "for i in range(len(RMSE)):\n",
    "    print(models[i][1], RMSE[i])"
   ]
  },
  {
   "cell_type": "code",
   "execution_count": 28,
   "metadata": {
    "execution": {
     "iopub.execute_input": "2021-10-16T16:31:05.359038Z",
     "iopub.status.busy": "2021-10-16T16:31:05.358493Z",
     "iopub.status.idle": "2021-10-16T16:31:05.371666Z",
     "shell.execute_reply": "2021-10-16T16:31:05.370196Z",
     "shell.execute_reply.started": "2021-10-16T16:31:05.358972Z"
    }
   },
   "outputs": [],
   "source": [
    "for i in range(len(R2)):\n",
    "    print(models[i][1], R2[i])"
   ]
  },
  {
   "cell_type": "code",
   "execution_count": 29,
   "metadata": {
    "execution": {
     "iopub.execute_input": "2021-10-16T16:31:05.374802Z",
     "iopub.status.busy": "2021-10-16T16:31:05.374328Z",
     "iopub.status.idle": "2021-10-16T16:31:05.384865Z",
     "shell.execute_reply": "2021-10-16T16:31:05.383720Z",
     "shell.execute_reply.started": "2021-10-16T16:31:05.374747Z"
    }
   },
   "outputs": [],
   "source": [
    "for i in range(len(EVS)):\n",
    "    print(models[i][1], EVS[i])"
   ]
  },
  {
   "cell_type": "markdown",
   "metadata": {},
   "source": [
    "## Checking for overfitting"
   ]
  },
  {
   "cell_type": "code",
   "execution_count": 30,
   "metadata": {
    "execution": {
     "iopub.execute_input": "2021-10-16T16:31:05.386945Z",
     "iopub.status.busy": "2021-10-16T16:31:05.386565Z",
     "iopub.status.idle": "2021-10-16T16:31:05.437638Z",
     "shell.execute_reply": "2021-10-16T16:31:05.436305Z",
     "shell.execute_reply.started": "2021-10-16T16:31:05.386908Z"
    }
   },
   "outputs": [],
   "source": [
    "from sklearn.model_selection import KFold \n",
    "from sklearn.linear_model import LinearRegression\n",
    "from sklearn.metrics import mean_squared_error, r2_score\n",
    "from sklearn.metrics import explained_variance_score\n",
    "from sklearn.metrics import mean_absolute_error\n",
    "import numpy as np\n",
    "\n",
    "model = LinearRegression()\n",
    "cv = KFold(n_splits=10, random_state=1, shuffle=True)\n",
    "mae_train = []\n",
    "mae_test = []\n",
    "\n",
    "for train_index, test_index in cv.split(X):\n",
    "\n",
    "    X_train, X_test = X[train_index], X[test_index] \n",
    "    y_train, y_test = y[train_index], y[test_index]\n",
    "\n",
    "    model.fit(X_train,y_train)\n",
    "    predictions=model.predict(X_test)\n",
    "    y_train_pred = model.predict(X_train)\n",
    "    y_test_pred = model.predict(X_test)\n",
    "    mae_train.append(mean_squared_error(y_train, y_train_pred))\n",
    "    mae_test.append(mean_squared_error(y_test, y_test_pred))\n",
    "\n",
    "    \n",
    "    mse = mean_squared_error(y_test, predictions)\n",
    "    print(mse,np.sqrt(mse),r2_score(y_test, predictions),explained_variance_score(y_test, predictions))"
   ]
  },
  {
   "cell_type": "code",
   "execution_count": 31,
   "metadata": {
    "execution": {
     "iopub.execute_input": "2021-10-16T16:31:05.439790Z",
     "iopub.status.busy": "2021-10-16T16:31:05.439449Z",
     "iopub.status.idle": "2021-10-16T16:31:05.666056Z",
     "shell.execute_reply": "2021-10-16T16:31:05.664919Z",
     "shell.execute_reply.started": "2021-10-16T16:31:05.439756Z"
    }
   },
   "outputs": [],
   "source": [
    "folds = range(1, cv.get_n_splits() + 1)\n",
    "plt.plot(folds, mae_train, 'o-', color='green', label='train')\n",
    "plt.plot(folds, mae_test, 'o-', color='red', label='test')\n",
    "plt.legend()\n",
    "plt.grid()\n",
    "plt.xlabel('Number of fold')\n",
    "plt.ylabel('Mean Absolute Error')\n",
    "plt.show()"
   ]
  },
  {
   "cell_type": "code",
   "execution_count": 32,
   "metadata": {
    "execution": {
     "iopub.execute_input": "2021-10-16T16:31:05.668055Z",
     "iopub.status.busy": "2021-10-16T16:31:05.667648Z",
     "iopub.status.idle": "2021-10-16T16:31:05.676555Z",
     "shell.execute_reply": "2021-10-16T16:31:05.675345Z",
     "shell.execute_reply.started": "2021-10-16T16:31:05.668004Z"
    }
   },
   "outputs": [],
   "source": [
    "for i in range(len(RMSE)):\n",
    "    print(models[i][1], RMSE[i])"
   ]
  },
  {
   "cell_type": "code",
   "execution_count": 33,
   "metadata": {
    "execution": {
     "iopub.execute_input": "2021-10-16T16:31:05.678359Z",
     "iopub.status.busy": "2021-10-16T16:31:05.678004Z",
     "iopub.status.idle": "2021-10-16T16:31:05.690570Z",
     "shell.execute_reply": "2021-10-16T16:31:05.689670Z",
     "shell.execute_reply.started": "2021-10-16T16:31:05.678324Z"
    }
   },
   "outputs": [],
   "source": [
    "for i in range(len(R2)):\n",
    "    print(models[i][1], R2[i])"
   ]
  },
  {
   "cell_type": "code",
   "execution_count": 34,
   "metadata": {
    "execution": {
     "iopub.execute_input": "2021-10-16T16:31:05.692389Z",
     "iopub.status.busy": "2021-10-16T16:31:05.691985Z",
     "iopub.status.idle": "2021-10-16T16:31:05.706016Z",
     "shell.execute_reply": "2021-10-16T16:31:05.704789Z",
     "shell.execute_reply.started": "2021-10-16T16:31:05.692351Z"
    }
   },
   "outputs": [],
   "source": [
    "for i in range(len(EVS)):\n",
    "    print(models[i][1], EVS[i])"
   ]
  },
  {
   "cell_type": "code",
   "execution_count": null,
   "metadata": {},
   "outputs": [],
   "source": []
  }
 ],
 "metadata": {
  "kernelspec": {
   "display_name": "Python 3",
   "language": "python",
   "name": "python3"
  },
  "language_info": {
   "codemirror_mode": {
    "name": "ipython",
    "version": 3
   },
   "file_extension": ".py",
   "mimetype": "text/x-python",
   "name": "python",
   "nbconvert_exporter": "python",
   "pygments_lexer": "ipython3",
   "version": "3.8.8"
  }
 },
 "nbformat": 4,
 "nbformat_minor": 4
}
